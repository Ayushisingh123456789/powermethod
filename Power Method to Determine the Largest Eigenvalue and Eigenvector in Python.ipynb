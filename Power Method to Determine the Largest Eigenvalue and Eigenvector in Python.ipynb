{
 "cells": [
  {
   "cell_type": "code",
   "execution_count": 15,
   "id": "17910b3f",
   "metadata": {},
   "outputs": [],
   "source": [
    "import numpy as np"
   ]
  },
  {
   "cell_type": "code",
   "execution_count": 16,
   "id": "ee16cebb",
   "metadata": {},
   "outputs": [],
   "source": [
    "A = np.array([[2, 1], [1, 2]]) "
   ]
  },
  {
   "cell_type": "code",
   "execution_count": 17,
   "id": "5e9ef672",
   "metadata": {},
   "outputs": [],
   "source": [
    "x = np.array([[1, 2]]).T "
   ]
  },
  {
   "cell_type": "code",
   "execution_count": 18,
   "id": "e34524ee",
   "metadata": {},
   "outputs": [],
   "source": [
    "tol = 1e-6"
   ]
  },
  {
   "cell_type": "code",
   "execution_count": 19,
   "id": "6e1a90f4",
   "metadata": {},
   "outputs": [],
   "source": [
    "max_iter = 100"
   ]
  },
  {
   "cell_type": "code",
   "execution_count": 20,
   "id": "3b58431c",
   "metadata": {},
   "outputs": [],
   "source": [
    "lam_prev = 0"
   ]
  },
  {
   "cell_type": "code",
   "execution_count": 21,
   "id": "edb3ce8c",
   "metadata": {},
   "outputs": [
    {
     "name": "stdout",
     "output_type": "stream",
     "text": [
      "2.999999953538855\n",
      "[[0.706999  ]\n",
      " [0.70721455]]\n"
     ]
    }
   ],
   "source": [
    "for i in range(max_iter): \n",
    "    x = A @ x / np.linalg.norm(A @ x) \n",
    "    lam = (x.T @ A @ x) / (x.T @ x) \n",
    "    if np.abs(lam - lam_prev) < tol: \n",
    "        break\n",
    "    lam_prev = lam \n",
    "print(float(lam)) \n",
    "print(x)   \n",
    "  "
   ]
  },
  {
   "cell_type": "code",
   "execution_count": null,
   "id": "b7e76634",
   "metadata": {},
   "outputs": [],
   "source": []
  }
 ],
 "metadata": {
  "kernelspec": {
   "display_name": "Python 3 (ipykernel)",
   "language": "python",
   "name": "python3"
  },
  "language_info": {
   "codemirror_mode": {
    "name": "ipython",
    "version": 3
   },
   "file_extension": ".py",
   "mimetype": "text/x-python",
   "name": "python",
   "nbconvert_exporter": "python",
   "pygments_lexer": "ipython3",
   "version": "3.11.4"
  }
 },
 "nbformat": 4,
 "nbformat_minor": 5
}
